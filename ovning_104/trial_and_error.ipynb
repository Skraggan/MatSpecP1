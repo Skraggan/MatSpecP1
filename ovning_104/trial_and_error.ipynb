{
 "cells": [
  {
   "cell_type": "markdown",
   "id": "3d4cfb50",
   "metadata": {},
   "source": [
    "## Massor av upprepningar\n",
    "Gemensamt för nedanstående tre problem, om de ska lösas med programmering, är att det krävs ett stort antal upprepningar för att lösa dem. Du kan starta Jupyter i Anaconda-miljön för att editera, testa och köra denna fil där.\n",
    "\n",
    "Filen kan laddas ned här:\n",
    "<a href=\"trial_and_error.ipynb\" download>\n",
    "  trial_and_error.ipynb\n",
    "</a>, varpå den som sagt öppnas i Jupyter, som i sin tur öppnas från Anaconda."
   ]
  },
  {
   "cell_type": "markdown",
   "id": "9dbc1e47",
   "metadata": {},
   "source": [
    "### Uppgift 1\n",
    "\n",
    "En **diofantisk ekvation** är en ekvation med flera obekanta som (om det existerar lösningar) har heltalslösningar. Exempel:\n",
    "\n",
    "$x+2y=10$ har t ex lösningsparen\n",
    "\n",
    "$(x,y)=(2,4)$ och $(x,y)=(-4,7)$. Faktum är att det finns hur många lösningspar (med heltal) som helst (bokstavligen!).\n",
    "\n",
    "Har vi däremot ekvationen\n",
    "\n",
    "$5x+20y=4$ så finns inte ett enda heltal som löser den.\n",
    "\n",
    "Det finns algebraiska metoder att lösa diofantiska ekvationer, vi ska inte ta upp någon av dessa här. Däremot så ska du lösa ett problem med hjälp av en diofantisk ekvation genom programmering. Problemet lyder:\n",
    "\n",
    "> Lille Petter köper frukt; äpplen, meloner och plommon. Per styck så kostar äpplena 3 kr, melonerna 10 kr och plommonen 50 öre. Han köper totalt 100 frukter, minst en av varje sort och totalt kostar det precis 100 kr. Hur många frukter av respektive sort kan han ha köpt? Finns det flera möjligheter?\n",
    "\n",
    "Du kommer att behöva tre nästlade `for`-loopar, dvs en loop i en loop i en loop. Den yttre loopen kan beskriva t ex antalet äpplen (som ändras från 1 till 2 till 3...), mellanloopen kan representera melonerna och den inre loopen kan representera plommenen. I den inre loopen kommer man då åt alla kombinationer av de tre sortenas frukt.\n",
    "\n",
    "Exempel på nästlad loop:"
   ]
  },
  {
   "cell_type": "code",
   "execution_count": 1,
   "metadata": {},
   "outputs": [
    {
     "output_type": "stream",
     "name": "stdout",
     "text": [
      "Yttre loop\nInre loop\n1 A\nInre loop\n1 B\nInre loop\n1 C\nYttre loop\nInre loop\n2 A\nInre loop\n2 B\nInre loop\n2 C\nYttre loop\nInre loop\n3 A\nInre loop\n3 B\nInre loop\n3 C\n"
     ]
    }
   ],
   "source": [
    "# Exempel som visar alla kombinationspar av talen 1, 2, 3\n",
    "# och bokstäverna A, B, C.\n",
    "for number in range(1, 4):\n",
    "    print(\"Yttre loop\")\n",
    "    for letter in [\"A\", \"B\", \"C\"]:\n",
    "        print(\"Inre loop\")\n",
    "        print(number, letter) # Skriver ut alla kombinationer"
   ]
  },
  {
   "cell_type": "markdown",
   "id": "7923c34b",
   "metadata": {},
   "source": [
    "### Uppgift 2\n",
    "Detta problem har inte med diofantiska ekvationer att göra, men rent programmeringstekniskt kan man strukturera det på liknande sätt:\n",
    "\n",
    "> Sjutton pirater har en skatt med dukater (gammal typ av guldmynt) av lika värde. De planerar att dela dem lika mellan sig och ge resten till den kinesiska kocken, som då skulle få tre dukater.Efter en piratstrid dödas sex av piraterna. Om delningen skulle ha skett vid den tidpunkten skulle kocken ha fått fyra dukater.\n",
    ">\n",
    "> Vid ett skeppsbrott några dagar senare klarar sig enbart skatten, sex pirater och kocken. Om de skulle dela nu skulle kocken ha fått fem guldmynt.\n",
    ">\n",
    "> Hur många dukater skulle kocken få om han förgiftade resten av piraterna? Många svar är möjliga, du ska skriva ett program listar de fem svaren med minst antal dukater.\n",
    "\n",
    "Kodraderna som du skriver i cellen nedan ska ge liknande output:\n",
    "```\n",
    "Möjligt antal dukater:\n",
    "...\n",
    "...\n",
    "...\n",
    "...\n",
    "...\n",
    "```\n",
    "\n",
    "En metod  som programmet kan bygga på är att pröva med ett antal dukater och pröva om villkoren uppfylls med det antalet. Om de inte uppfylls så ökar antalet dukater med ett, varpå en ny prövning av villkoren sker. Sedan görs processen om så många gånger som behövs.\n",
    "\n",
    "Du kan använda dig av den s.k *modulo-operatorn* (`%`), det är ett räknesätt som ger *resten* vid division. Exempel: Tio mynt delas på tre personer; det ger 3 mynt per person och ett mynt över. Därför gäller att `10 % 3 = 1`."
   ]
  },
  {
   "cell_type": "code",
   "execution_count": 2,
   "metadata": {},
   "outputs": [
    {
     "output_type": "stream",
     "name": "stdout",
     "text": [
      "1\n"
     ]
    }
   ],
   "source": [
    "# Exempel\n",
    "rest = 10 % 3\n",
    "print(rest)"
   ]
  },
  {
   "cell_type": "markdown",
   "id": "43086f94",
   "metadata": {},
   "source": [
    "### Uppgift 3\n",
    "Serier i matematiken är talföljder med ett oändligt antal termer som summeras.\n",
    "\n",
    "När man undersöker ett värde numeriskt, dvs att man räknar sig fram till det term för term, går det inte att ha ett oändligt antal termer. Däremot går det att ha ett stort antal, som man dessutom ökar under undersökningens gång. T ex att man börjar med $10$ termer, fortsätter med $100$, $1000$ osv.\n",
    "\n",
    "I denna uppgift ska du undersöka värdet på två serier:\n",
    "\n",
    ">**Serie A**\n",
    ">\n",
    ">$1-\\frac{1}{3}+\\frac{1}{5}-\\frac{1}{7}+...$\n",
    ">\n",
    ">**Serie B**\n",
    ">\n",
    ">$1-\\frac{1}{2}+\\frac{1}{3}-\\frac{1}{4}+...$\n",
    "\n",
    ">\n",
    ">Du ska beräkna värdet av respektive serie (för ett oändligt antal termer). För att lättare se värdet på Serie A (vi kan kalla det för $a$) ska du multiplicera svaret med 4, och för att se värdet på Serie B (som vi kan kalla för $b$) ska det exponentieras (dvs du beräknar $e^b$). Det går inte att låta datorn numeriskt beräkna det exakta värdet, men genom att gradvis öka antalet termer kan du se vilket exakt värde det kommer att gå emot i respektive fall.\n",
    "\n",
    "Talet $e$ finns bl a definierat i Pythons matematikbibliotek:\n",
    "\n",
    "```\n",
    "import math as m\n",
    "print(m.exp(1)) # Ger talet e^1\n",
    "```\n",
    "\n",
    "Exempel på hur summan av de 10 första termerna i serien där respektive term uttrycks som $s=\\frac{1}{n^2}$, $n=1,2,3,...,10$ beräknas:"
   ]
  },
  {
   "cell_type": "code",
   "execution_count": 3,
   "metadata": {},
   "outputs": [
    {
     "output_type": "stream",
     "name": "stdout",
     "text": [
      "1.5497677311665408\n"
     ]
    }
   ],
   "source": [
    "# Beräknar 1 + 1/4 + 1/9 + ... + 1/100\n",
    "sum = 0\n",
    "for n in range(1, 11):\n",
    "    sum += 1/(n**2)\n",
    "print(sum)"
   ]
  }
 ],
 "metadata": {
  "kernelspec": {
   "name": "python3",
   "display_name": "Python 3.9.6 64-bit"
  },
  "language_info": {
   "codemirror_mode": {
    "name": "ipython",
    "version": 3
   },
   "file_extension": ".py",
   "mimetype": "text/x-python",
   "name": "python",
   "nbconvert_exporter": "python",
   "pygments_lexer": "ipython3",
   "version": "3.9.6"
  },
  "interpreter": {
   "hash": "b0fa6594d8f4cbf19f97940f81e996739fb7646882a419484c72d19e05852a7e"
  }
 },
 "nbformat": 4,
 "nbformat_minor": 5
}